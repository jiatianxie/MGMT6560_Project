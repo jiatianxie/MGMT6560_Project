{
  "nbformat": 4,
  "nbformat_minor": 0,
  "metadata": {
    "colab": {
      "name": "MGMT_6560_Project2.ipynb",
      "provenance": [],
      "collapsed_sections": []
    },
    "kernelspec": {
      "name": "python3",
      "display_name": "Python 3"
    }
  },
  "cells": [
    {
      "cell_type": "code",
      "metadata": {
        "id": "tzzr5uxbnAwx",
        "colab_type": "code",
        "outputId": "1f4b9764-7770-4b4f-a7ff-c296b073b805",
        "colab": {
          "base_uri": "https://localhost:8080/",
          "height": 222
        }
      },
      "source": [
        "import pandas as pd\n",
        "import numpy as np\n",
        "import matplotlib\n",
        "import matplotlib.pyplot as plt\n",
        "import seaborn as sns\n",
        "\n",
        "\n",
        "#import the test and train csv files\n",
        "url_train = 'https://raw.githubusercontent.com/jiatianxie/MGMT6560_Project/master/train.csv'\n",
        "url_test = 'https://raw.githubusercontent.com/jiatianxie/MGMT6560_Project/master/test.csv'\n",
        "\n",
        "train = pd.read_csv(url_train)\n",
        "test = pd.read_csv(url_test)\n",
        "\n",
        "#drop unwanted categorical features\n",
        "\n",
        "train = train.drop(['RescuerID','Description','PetID'], axis = 1)\n",
        "test = test.drop(['RescuerID','Description','PetID'], axis = 1)\n",
        "\n",
        "#add a column to create dummy feature for name. If a pet has name = 1, otherwise = 0.\n",
        "train['With_Name'] = 0\n",
        "test['With_Name'] = 0\n",
        "train.loc[train['Name'] == 'No Name Yet', 'With_Name'] = 0\n",
        "train.loc[train['Name'] != 'No Name Yet', 'With_Name'] = 1\n",
        "test.loc[test['Name'] == 'No Name Yet', 'With_Name'] = 0\n",
        "test.loc[test['Name'] != 'No Name Yet', 'With_Name'] = 1\n",
        "\n",
        "#move the new colunm with_name to the front\n",
        "cols_train = train.columns.tolist()\n",
        "cols_train = cols_train[-1:] + cols_train[:-1]\n",
        "\n",
        "cols_test = test.columns.tolist()\n",
        "cols_test = cols_test[-1:] + cols_test[:-1]\n",
        "\n",
        "train = train[cols_train]\n",
        "test = test[cols_test]\n",
        "\n",
        "#drop the name column, since it is categorical and it may not be very helpful\n",
        "train = train.drop(['Name'], axis = 1)\n",
        "test = test.drop(['Name'], axis = 1)\n",
        "\n",
        "#insert a new column to specify data type\n",
        "train.insert(20, 'dataset_type','train')\n",
        "test.insert(20, 'dataset_type', 'test')\n",
        "\n",
        "#Get a first look of the organized sets\n",
        "test.head()"
      ],
      "execution_count": 1,
      "outputs": [
        {
          "output_type": "execute_result",
          "data": {
            "text/html": [
              "<div>\n",
              "<style scoped>\n",
              "    .dataframe tbody tr th:only-of-type {\n",
              "        vertical-align: middle;\n",
              "    }\n",
              "\n",
              "    .dataframe tbody tr th {\n",
              "        vertical-align: top;\n",
              "    }\n",
              "\n",
              "    .dataframe thead th {\n",
              "        text-align: right;\n",
              "    }\n",
              "</style>\n",
              "<table border=\"1\" class=\"dataframe\">\n",
              "  <thead>\n",
              "    <tr style=\"text-align: right;\">\n",
              "      <th></th>\n",
              "      <th>With_Name</th>\n",
              "      <th>Type</th>\n",
              "      <th>Age</th>\n",
              "      <th>Breed1</th>\n",
              "      <th>Breed2</th>\n",
              "      <th>Gender</th>\n",
              "      <th>Color1</th>\n",
              "      <th>Color2</th>\n",
              "      <th>Color3</th>\n",
              "      <th>MaturitySize</th>\n",
              "      <th>FurLength</th>\n",
              "      <th>Vaccinated</th>\n",
              "      <th>Dewormed</th>\n",
              "      <th>Sterilized</th>\n",
              "      <th>Health</th>\n",
              "      <th>Quantity</th>\n",
              "      <th>Fee</th>\n",
              "      <th>State</th>\n",
              "      <th>VideoAmt</th>\n",
              "      <th>PhotoAmt</th>\n",
              "      <th>dataset_type</th>\n",
              "    </tr>\n",
              "  </thead>\n",
              "  <tbody>\n",
              "    <tr>\n",
              "      <th>0</th>\n",
              "      <td>1</td>\n",
              "      <td>2</td>\n",
              "      <td>8</td>\n",
              "      <td>266</td>\n",
              "      <td>266</td>\n",
              "      <td>1</td>\n",
              "      <td>2</td>\n",
              "      <td>6</td>\n",
              "      <td>7</td>\n",
              "      <td>1</td>\n",
              "      <td>1</td>\n",
              "      <td>1</td>\n",
              "      <td>1</td>\n",
              "      <td>2</td>\n",
              "      <td>1</td>\n",
              "      <td>2</td>\n",
              "      <td>0</td>\n",
              "      <td>41326</td>\n",
              "      <td>0</td>\n",
              "      <td>2.0</td>\n",
              "      <td>test</td>\n",
              "    </tr>\n",
              "    <tr>\n",
              "      <th>1</th>\n",
              "      <td>1</td>\n",
              "      <td>2</td>\n",
              "      <td>36</td>\n",
              "      <td>285</td>\n",
              "      <td>264</td>\n",
              "      <td>2</td>\n",
              "      <td>1</td>\n",
              "      <td>4</td>\n",
              "      <td>7</td>\n",
              "      <td>2</td>\n",
              "      <td>3</td>\n",
              "      <td>1</td>\n",
              "      <td>1</td>\n",
              "      <td>1</td>\n",
              "      <td>2</td>\n",
              "      <td>1</td>\n",
              "      <td>0</td>\n",
              "      <td>41326</td>\n",
              "      <td>0</td>\n",
              "      <td>1.0</td>\n",
              "      <td>test</td>\n",
              "    </tr>\n",
              "    <tr>\n",
              "      <th>2</th>\n",
              "      <td>1</td>\n",
              "      <td>2</td>\n",
              "      <td>2</td>\n",
              "      <td>265</td>\n",
              "      <td>0</td>\n",
              "      <td>1</td>\n",
              "      <td>6</td>\n",
              "      <td>7</td>\n",
              "      <td>0</td>\n",
              "      <td>2</td>\n",
              "      <td>2</td>\n",
              "      <td>1</td>\n",
              "      <td>1</td>\n",
              "      <td>2</td>\n",
              "      <td>1</td>\n",
              "      <td>1</td>\n",
              "      <td>200</td>\n",
              "      <td>41326</td>\n",
              "      <td>0</td>\n",
              "      <td>4.0</td>\n",
              "      <td>test</td>\n",
              "    </tr>\n",
              "    <tr>\n",
              "      <th>3</th>\n",
              "      <td>1</td>\n",
              "      <td>1</td>\n",
              "      <td>12</td>\n",
              "      <td>307</td>\n",
              "      <td>0</td>\n",
              "      <td>2</td>\n",
              "      <td>2</td>\n",
              "      <td>5</td>\n",
              "      <td>0</td>\n",
              "      <td>2</td>\n",
              "      <td>2</td>\n",
              "      <td>1</td>\n",
              "      <td>1</td>\n",
              "      <td>1</td>\n",
              "      <td>1</td>\n",
              "      <td>2</td>\n",
              "      <td>0</td>\n",
              "      <td>41326</td>\n",
              "      <td>0</td>\n",
              "      <td>5.0</td>\n",
              "      <td>test</td>\n",
              "    </tr>\n",
              "    <tr>\n",
              "      <th>4</th>\n",
              "      <td>1</td>\n",
              "      <td>2</td>\n",
              "      <td>12</td>\n",
              "      <td>265</td>\n",
              "      <td>0</td>\n",
              "      <td>1</td>\n",
              "      <td>2</td>\n",
              "      <td>3</td>\n",
              "      <td>7</td>\n",
              "      <td>2</td>\n",
              "      <td>2</td>\n",
              "      <td>1</td>\n",
              "      <td>1</td>\n",
              "      <td>1</td>\n",
              "      <td>1</td>\n",
              "      <td>1</td>\n",
              "      <td>0</td>\n",
              "      <td>41326</td>\n",
              "      <td>0</td>\n",
              "      <td>5.0</td>\n",
              "      <td>test</td>\n",
              "    </tr>\n",
              "  </tbody>\n",
              "</table>\n",
              "</div>"
            ],
            "text/plain": [
              "   With_Name  Type  Age  Breed1  ...  State  VideoAmt  PhotoAmt  dataset_type\n",
              "0          1     2    8     266  ...  41326         0       2.0          test\n",
              "1          1     2   36     285  ...  41326         0       1.0          test\n",
              "2          1     2    2     265  ...  41326         0       4.0          test\n",
              "3          1     1   12     307  ...  41326         0       5.0          test\n",
              "4          1     2   12     265  ...  41326         0       5.0          test\n",
              "\n",
              "[5 rows x 21 columns]"
            ]
          },
          "metadata": {
            "tags": []
          },
          "execution_count": 1
        }
      ]
    },
    {
      "cell_type": "markdown",
      "metadata": {
        "id": "5BHiDuZPnyak",
        "colab_type": "text"
      },
      "source": [
        "Initial Processing"
      ]
    },
    {
      "cell_type": "code",
      "metadata": {
        "id": "TOJb7bedr9uE",
        "colab_type": "code",
        "colab": {
          "base_uri": "https://localhost:8080/",
          "height": 222
        },
        "outputId": "6f1303cd-b6a9-4666-8b4b-b8b10792e28b"
      },
      "source": [
        "from scipy.stats import skew\n",
        "from scipy.stats.stats import pearsonr\n",
        "\n",
        "all_data = pd.concat((train.loc[:,'With_Name':'dataset_type'],\n",
        "                      test.loc[:,'With_Name':'dataset_type']))\n",
        "\n",
        "\n",
        "all_data.head()"
      ],
      "execution_count": 2,
      "outputs": [
        {
          "output_type": "execute_result",
          "data": {
            "text/html": [
              "<div>\n",
              "<style scoped>\n",
              "    .dataframe tbody tr th:only-of-type {\n",
              "        vertical-align: middle;\n",
              "    }\n",
              "\n",
              "    .dataframe tbody tr th {\n",
              "        vertical-align: top;\n",
              "    }\n",
              "\n",
              "    .dataframe thead th {\n",
              "        text-align: right;\n",
              "    }\n",
              "</style>\n",
              "<table border=\"1\" class=\"dataframe\">\n",
              "  <thead>\n",
              "    <tr style=\"text-align: right;\">\n",
              "      <th></th>\n",
              "      <th>With_Name</th>\n",
              "      <th>Type</th>\n",
              "      <th>Age</th>\n",
              "      <th>Breed1</th>\n",
              "      <th>Breed2</th>\n",
              "      <th>Gender</th>\n",
              "      <th>Color1</th>\n",
              "      <th>Color2</th>\n",
              "      <th>Color3</th>\n",
              "      <th>MaturitySize</th>\n",
              "      <th>FurLength</th>\n",
              "      <th>Vaccinated</th>\n",
              "      <th>Dewormed</th>\n",
              "      <th>Sterilized</th>\n",
              "      <th>Health</th>\n",
              "      <th>Quantity</th>\n",
              "      <th>Fee</th>\n",
              "      <th>State</th>\n",
              "      <th>VideoAmt</th>\n",
              "      <th>PhotoAmt</th>\n",
              "      <th>dataset_type</th>\n",
              "    </tr>\n",
              "  </thead>\n",
              "  <tbody>\n",
              "    <tr>\n",
              "      <th>0</th>\n",
              "      <td>1</td>\n",
              "      <td>2</td>\n",
              "      <td>3</td>\n",
              "      <td>299</td>\n",
              "      <td>0</td>\n",
              "      <td>1</td>\n",
              "      <td>1</td>\n",
              "      <td>7</td>\n",
              "      <td>0</td>\n",
              "      <td>1</td>\n",
              "      <td>1</td>\n",
              "      <td>2</td>\n",
              "      <td>2</td>\n",
              "      <td>2</td>\n",
              "      <td>1</td>\n",
              "      <td>1</td>\n",
              "      <td>100</td>\n",
              "      <td>41326</td>\n",
              "      <td>0</td>\n",
              "      <td>1.0</td>\n",
              "      <td>train</td>\n",
              "    </tr>\n",
              "    <tr>\n",
              "      <th>1</th>\n",
              "      <td>0</td>\n",
              "      <td>2</td>\n",
              "      <td>1</td>\n",
              "      <td>265</td>\n",
              "      <td>0</td>\n",
              "      <td>1</td>\n",
              "      <td>1</td>\n",
              "      <td>2</td>\n",
              "      <td>0</td>\n",
              "      <td>2</td>\n",
              "      <td>2</td>\n",
              "      <td>3</td>\n",
              "      <td>3</td>\n",
              "      <td>3</td>\n",
              "      <td>1</td>\n",
              "      <td>1</td>\n",
              "      <td>0</td>\n",
              "      <td>41401</td>\n",
              "      <td>0</td>\n",
              "      <td>2.0</td>\n",
              "      <td>train</td>\n",
              "    </tr>\n",
              "    <tr>\n",
              "      <th>2</th>\n",
              "      <td>1</td>\n",
              "      <td>1</td>\n",
              "      <td>1</td>\n",
              "      <td>307</td>\n",
              "      <td>0</td>\n",
              "      <td>1</td>\n",
              "      <td>2</td>\n",
              "      <td>7</td>\n",
              "      <td>0</td>\n",
              "      <td>2</td>\n",
              "      <td>2</td>\n",
              "      <td>1</td>\n",
              "      <td>1</td>\n",
              "      <td>2</td>\n",
              "      <td>1</td>\n",
              "      <td>1</td>\n",
              "      <td>0</td>\n",
              "      <td>41326</td>\n",
              "      <td>0</td>\n",
              "      <td>7.0</td>\n",
              "      <td>train</td>\n",
              "    </tr>\n",
              "    <tr>\n",
              "      <th>3</th>\n",
              "      <td>1</td>\n",
              "      <td>1</td>\n",
              "      <td>4</td>\n",
              "      <td>307</td>\n",
              "      <td>0</td>\n",
              "      <td>2</td>\n",
              "      <td>1</td>\n",
              "      <td>2</td>\n",
              "      <td>0</td>\n",
              "      <td>2</td>\n",
              "      <td>1</td>\n",
              "      <td>1</td>\n",
              "      <td>1</td>\n",
              "      <td>2</td>\n",
              "      <td>1</td>\n",
              "      <td>1</td>\n",
              "      <td>150</td>\n",
              "      <td>41401</td>\n",
              "      <td>0</td>\n",
              "      <td>8.0</td>\n",
              "      <td>train</td>\n",
              "    </tr>\n",
              "    <tr>\n",
              "      <th>4</th>\n",
              "      <td>1</td>\n",
              "      <td>1</td>\n",
              "      <td>1</td>\n",
              "      <td>307</td>\n",
              "      <td>0</td>\n",
              "      <td>1</td>\n",
              "      <td>1</td>\n",
              "      <td>0</td>\n",
              "      <td>0</td>\n",
              "      <td>2</td>\n",
              "      <td>1</td>\n",
              "      <td>2</td>\n",
              "      <td>2</td>\n",
              "      <td>2</td>\n",
              "      <td>1</td>\n",
              "      <td>1</td>\n",
              "      <td>0</td>\n",
              "      <td>41326</td>\n",
              "      <td>0</td>\n",
              "      <td>3.0</td>\n",
              "      <td>train</td>\n",
              "    </tr>\n",
              "  </tbody>\n",
              "</table>\n",
              "</div>"
            ],
            "text/plain": [
              "   With_Name  Type  Age  Breed1  ...  State  VideoAmt  PhotoAmt  dataset_type\n",
              "0          1     2    3     299  ...  41326         0       1.0         train\n",
              "1          0     2    1     265  ...  41401         0       2.0         train\n",
              "2          1     1    1     307  ...  41326         0       7.0         train\n",
              "3          1     1    4     307  ...  41401         0       8.0         train\n",
              "4          1     1    1     307  ...  41326         0       3.0         train\n",
              "\n",
              "[5 rows x 21 columns]"
            ]
          },
          "metadata": {
            "tags": []
          },
          "execution_count": 2
        }
      ]
    },
    {
      "cell_type": "code",
      "metadata": {
        "id": "sUbbIQy5tC9l",
        "colab_type": "code",
        "colab": {
          "base_uri": "https://localhost:8080/",
          "height": 336
        },
        "outputId": "ca4593a3-d69f-4b58-c3ec-c1b8cf3b3e93"
      },
      "source": [
        "#adoption speed count\n",
        "train['AdoptionSpeed'].value_counts().sort_index().plot('barh', color='darkblue');\n",
        "plt.title('Adoption speed classes counts');"
      ],
      "execution_count": 3,
      "outputs": [
        {
          "output_type": "stream",
          "text": [
            "/usr/local/lib/python3.6/dist-packages/ipykernel_launcher.py:1: FutureWarning: `Series.plot()` should not be called with positional arguments, only keyword arguments. The order of positional arguments will change in the future. Use `Series.plot(kind='barh')` instead of `Series.plot('barh',)`.\n",
            "  \"\"\"Entry point for launching an IPython kernel.\n"
          ],
          "name": "stderr"
        },
        {
          "output_type": "display_data",
          "data": {
            "image/png": "[encoded data removed]",
            "text/plain": [
              "<Figure size 432x288 with 1 Axes>"
            ]
          },
          "metadata": {
            "tags": []
          }
        }
      ]
    },
    {
      "cell_type": "code",
      "metadata": {
        "id": "BWjMPv560RKq",
        "colab_type": "code",
        "outputId": "54f03d14-bc4b-453d-95ac-60bff901e91d",
        "colab": {
          "base_uri": "https://localhost:8080/",
          "height": 442
        }
      },
      "source": [
        "#transform the skewed numeric features by taking log(feature + 1) so that the features are more normal\n",
        "matplotlib.rcParams['figure.figsize'] = (12.0, 6.0)\n",
        "speed = pd.DataFrame({\"speed\":train[\"AdoptionSpeed\"], \"log(speed + 1)\":np.log1p(train[\"AdoptionSpeed\"])})\n",
        "speed.hist()"
      ],
      "execution_count": 4,
      "outputs": [
        {
          "output_type": "execute_result",
          "data": {
            "text/plain": [
              "array([[<matplotlib.axes._subplots.AxesSubplot object at 0x7f24fe0e4ba8>,\n",
              "        <matplotlib.axes._subplots.AxesSubplot object at 0x7f24fdb0c048>]],\n",
              "      dtype=object)"
            ]
          },
          "metadata": {
            "tags": []
          },
          "execution_count": 4
        },
        {
          "output_type": "display_data",
          "data": {
            "image/png": "[encoded data removed]",
            "text/plain": [
              "<Figure size 864x432 with 2 Axes>"
            ]
          },
          "metadata": {
            "tags": []
          }
        }
      ]
    },
    {
      "cell_type": "code",
      "metadata": {
        "id": "rQ8ALGnv0Sp6",
        "colab_type": "code",
        "colab": {
          "base_uri": "https://localhost:8080/",
          "height": 405
        },
        "outputId": "b92017ef-2118-4a92-de7a-c577204f1eb4"
      },
      "source": [
        "#number of dogs and cats in each dataset\n",
        "all_data['Type'] = all_data['Type'].apply(lambda x: 'Dog' if x == 1 else 'Cat')\n",
        "plt.figure(figsize=(10, 6));\n",
        "sns.countplot(x='dataset_type', data=all_data, hue='Type');\n",
        "plt.title('Number of cats and dogs in train and test data');"
      ],
      "execution_count": 5,
      "outputs": [
        {
          "output_type": "display_data",
          "data": {
            "image/png": "[encoded data removed]",
            "text/plain": [
              "<Figure size 720x432 with 1 Axes>"
            ]
          },
          "metadata": {
            "tags": []
          }
        }
      ]
    },
    {
      "cell_type": "markdown",
      "metadata": {
        "id": "Bo3pCvzetqeO",
        "colab_type": "text"
      },
      "source": [
        "The Ridge Regression and Lasso Model"
      ]
    },
    {
      "cell_type": "code",
      "metadata": {
        "id": "NVcNH0aB0wka",
        "colab_type": "code",
        "colab": {}
      },
      "source": [
        "all_data = pd.concat((train.loc[:,'With_Name':'PhotoAmt'],\n",
        "                      test.loc[:,'With_Name':'PhotoAmt']))\n",
        "\n",
        "#log transform the target:\n",
        "train[\"AdoptionSpeed\"] = np.log1p(train[\"AdoptionSpeed\"])\n",
        "\n",
        "#log transform skewed numeric features:\n",
        "numeric_feats = all_data.dtypes[all_data.dtypes != \"object\"].index\n",
        "\n",
        "skewed_feats = train[numeric_feats].apply(lambda x: skew(x.dropna())) #compute skewness\n",
        "skewed_feats = skewed_feats[skewed_feats > 0.75]\n",
        "skewed_feats = skewed_feats.index\n",
        "\n",
        "all_data[skewed_feats] = np.log1p(all_data[skewed_feats])"
      ],
      "execution_count": 0,
      "outputs": []
    },
    {
      "cell_type": "code",
      "metadata": {
        "id": "cMOz23151UBw",
        "colab_type": "code",
        "colab": {}
      },
      "source": [
        "#create matrices for sklearn\n",
        "X_train = all_data[:train.shape[0]]\n",
        "X_test = all_data[train.shape[0]:]\n",
        "y = train.AdoptionSpeed"
      ],
      "execution_count": 0,
      "outputs": []
    },
    {
      "cell_type": "code",
      "metadata": {
        "id": "DkInQvUT1gku",
        "colab_type": "code",
        "outputId": "34480f3e-cffa-463f-a891-508ef77dbf02",
        "colab": {
          "base_uri": "https://localhost:8080/",
          "height": 892
        }
      },
      "source": [
        "from sklearn.linear_model import Ridge, RidgeCV, ElasticNet, LassoCV, LassoLarsCV\n",
        "from sklearn.model_selection import cross_val_score\n",
        "\n",
        "def rmse_cv(model):\n",
        "    rmse= np.sqrt(-cross_val_score(model, X_train, y, scoring=\"neg_mean_squared_error\"))\n",
        "    return(rmse)\n",
        "\n",
        "model_ridge = Ridge()\n",
        "\n",
        "alphas = [0.05, 0.1, 0.3, 1, 3, 5, 10, 15, 20, 25, 30,85,100]\n",
        "cv_ridge = [rmse_cv(Ridge(alpha = alpha)).mean()\n",
        "            for alpha in alphas]\n",
        "\n",
        "cv_ridge = pd.Series(cv_ridge, index = alphas)\n",
        "cv_ridge.plot(title = \"Validation\")\n",
        "plt.xlabel(\"alpha\")\n",
        "plt.ylabel(\"rmse\")"
      ],
      "execution_count": 8,
      "outputs": [
        {
          "output_type": "stream",
          "text": [
            "/usr/local/lib/python3.6/dist-packages/sklearn/model_selection/_split.py:1978: FutureWarning: The default value of cv will change from 3 to 5 in version 0.22. Specify it explicitly to silence this warning.\n",
            "  warnings.warn(CV_WARNING, FutureWarning)\n",
            "/usr/local/lib/python3.6/dist-packages/sklearn/model_selection/_split.py:1978: FutureWarning: The default value of cv will change from 3 to 5 in version 0.22. Specify it explicitly to silence this warning.\n",
            "  warnings.warn(CV_WARNING, FutureWarning)\n",
            "/usr/local/lib/python3.6/dist-packages/sklearn/model_selection/_split.py:1978: FutureWarning: The default value of cv will change from 3 to 5 in version 0.22. Specify it explicitly to silence this warning.\n",
            "  warnings.warn(CV_WARNING, FutureWarning)\n",
            "/usr/local/lib/python3.6/dist-packages/sklearn/model_selection/_split.py:1978: FutureWarning: The default value of cv will change from 3 to 5 in version 0.22. Specify it explicitly to silence this warning.\n",
            "  warnings.warn(CV_WARNING, FutureWarning)\n",
            "/usr/local/lib/python3.6/dist-packages/sklearn/model_selection/_split.py:1978: FutureWarning: The default value of cv will change from 3 to 5 in version 0.22. Specify it explicitly to silence this warning.\n",
            "  warnings.warn(CV_WARNING, FutureWarning)\n",
            "/usr/local/lib/python3.6/dist-packages/sklearn/model_selection/_split.py:1978: FutureWarning: The default value of cv will change from 3 to 5 in version 0.22. Specify it explicitly to silence this warning.\n",
            "  warnings.warn(CV_WARNING, FutureWarning)\n",
            "/usr/local/lib/python3.6/dist-packages/sklearn/model_selection/_split.py:1978: FutureWarning: The default value of cv will change from 3 to 5 in version 0.22. Specify it explicitly to silence this warning.\n",
            "  warnings.warn(CV_WARNING, FutureWarning)\n",
            "/usr/local/lib/python3.6/dist-packages/sklearn/model_selection/_split.py:1978: FutureWarning: The default value of cv will change from 3 to 5 in version 0.22. Specify it explicitly to silence this warning.\n",
            "  warnings.warn(CV_WARNING, FutureWarning)\n",
            "/usr/local/lib/python3.6/dist-packages/sklearn/model_selection/_split.py:1978: FutureWarning: The default value of cv will change from 3 to 5 in version 0.22. Specify it explicitly to silence this warning.\n",
            "  warnings.warn(CV_WARNING, FutureWarning)\n",
            "/usr/local/lib/python3.6/dist-packages/sklearn/model_selection/_split.py:1978: FutureWarning: The default value of cv will change from 3 to 5 in version 0.22. Specify it explicitly to silence this warning.\n",
            "  warnings.warn(CV_WARNING, FutureWarning)\n",
            "/usr/local/lib/python3.6/dist-packages/sklearn/model_selection/_split.py:1978: FutureWarning: The default value of cv will change from 3 to 5 in version 0.22. Specify it explicitly to silence this warning.\n",
            "  warnings.warn(CV_WARNING, FutureWarning)\n",
            "/usr/local/lib/python3.6/dist-packages/sklearn/model_selection/_split.py:1978: FutureWarning: The default value of cv will change from 3 to 5 in version 0.22. Specify it explicitly to silence this warning.\n",
            "  warnings.warn(CV_WARNING, FutureWarning)\n",
            "/usr/local/lib/python3.6/dist-packages/sklearn/model_selection/_split.py:1978: FutureWarning: The default value of cv will change from 3 to 5 in version 0.22. Specify it explicitly to silence this warning.\n",
            "  warnings.warn(CV_WARNING, FutureWarning)\n"
          ],
          "name": "stderr"
        },
        {
          "output_type": "execute_result",
          "data": {
            "text/plain": [
              "Text(0, 0.5, 'rmse')"
            ]
          },
          "metadata": {
            "tags": []
          },
          "execution_count": 8
        },
        {
          "output_type": "display_data",
          "data": {
            "image/png": "[encoded data removed]",
            "text/plain": [
              "<Figure size 864x432 with 1 Axes>"
            ]
          },
          "metadata": {
            "tags": []
          }
        }
      ]
    },
    {
      "cell_type": "code",
      "metadata": {
        "id": "J1f2xVZhLlx-",
        "colab_type": "code",
        "colab": {
          "base_uri": "https://localhost:8080/",
          "height": 35
        },
        "outputId": "2907c377-bcec-4c6a-e301-374ef34ffa88"
      },
      "source": [
        "#The plot shows that an alpha of 20 the best fit for ridge regression\n",
        "#the rmse for ridge regression\n",
        "\n",
        "model_ridge.fit(X_train, y)\n",
        "ridge_preds = np.expm1(model_ridge.predict(X_test))\n",
        "\n",
        "print('The rmse for ridge regression:', cv_ridge.min())"
      ],
      "execution_count": 9,
      "outputs": [
        {
          "output_type": "stream",
          "text": [
            "The rmse for ridge regression: 0.37063348307639127\n"
          ],
          "name": "stdout"
        }
      ]
    },
    {
      "cell_type": "code",
      "metadata": {
        "id": "sjTmRSgu2ZnL",
        "colab_type": "code",
        "colab": {
          "base_uri": "https://localhost:8080/",
          "height": 228
        },
        "outputId": "9c30f58b-597c-4bf4-d262-38a56863465e"
      },
      "source": [
        "#The plot shows that an alpha of 30 is the best fit for ridge regression\n",
        "\n",
        "model_lasso = LassoCV(alphas = [1, 0.6, 0.02, 0.05, 0.005 ,0.001 ,0.0005]).fit(X_train, y)\n",
        "lasso_preds = np.expm1(model_lasso.predict(X_test))\n",
        "\n",
        "print('The rmse for Lasso:', rmse_cv(model_lasso).mean())"
      ],
      "execution_count": 10,
      "outputs": [
        {
          "output_type": "stream",
          "text": [
            "The rmse for Lasso: 0.37068492618484356\n"
          ],
          "name": "stdout"
        },
        {
          "output_type": "stream",
          "text": [
            "/usr/local/lib/python3.6/dist-packages/sklearn/model_selection/_split.py:1978: FutureWarning: The default value of cv will change from 3 to 5 in version 0.22. Specify it explicitly to silence this warning.\n",
            "  warnings.warn(CV_WARNING, FutureWarning)\n",
            "/usr/local/lib/python3.6/dist-packages/sklearn/model_selection/_split.py:1978: FutureWarning: The default value of cv will change from 3 to 5 in version 0.22. Specify it explicitly to silence this warning.\n",
            "  warnings.warn(CV_WARNING, FutureWarning)\n",
            "/usr/local/lib/python3.6/dist-packages/sklearn/model_selection/_split.py:1978: FutureWarning: The default value of cv will change from 3 to 5 in version 0.22. Specify it explicitly to silence this warning.\n",
            "  warnings.warn(CV_WARNING, FutureWarning)\n",
            "/usr/local/lib/python3.6/dist-packages/sklearn/model_selection/_split.py:1978: FutureWarning: The default value of cv will change from 3 to 5 in version 0.22. Specify it explicitly to silence this warning.\n",
            "  warnings.warn(CV_WARNING, FutureWarning)\n",
            "/usr/local/lib/python3.6/dist-packages/sklearn/model_selection/_split.py:1978: FutureWarning: The default value of cv will change from 3 to 5 in version 0.22. Specify it explicitly to silence this warning.\n",
            "  warnings.warn(CV_WARNING, FutureWarning)\n"
          ],
          "name": "stderr"
        }
      ]
    },
    {
      "cell_type": "code",
      "metadata": {
        "id": "VJRfvg3IN7lL",
        "colab_type": "code",
        "colab": {
          "base_uri": "https://localhost:8080/",
          "height": 35
        },
        "outputId": "77508bad-6d72-4dd7-ae23-e708d2b882ac"
      },
      "source": [
        "coef = pd.Series(model_lasso.coef_, index = X_train.columns)\n",
        "print(\"Ridge picked \" + str(sum(coef != 0)) + \" variables and eliminated the other \" +  str(sum(coef == 0)) + \" variables\")"
      ],
      "execution_count": 11,
      "outputs": [
        {
          "output_type": "stream",
          "text": [
            "Ridge picked 16 variables and eliminated the other 4 variables\n"
          ],
          "name": "stdout"
        }
      ]
    },
    {
      "cell_type": "code",
      "metadata": {
        "id": "9QUwlnF-6Z8i",
        "colab_type": "code",
        "colab": {
          "base_uri": "https://localhost:8080/",
          "height": 625
        },
        "outputId": "3437b4a1-af35-454b-926c-6bb7e091cde8"
      },
      "source": [
        "#plot the coefficients in the Lasso Model for different variables\n",
        "\n",
        "coef = pd.Series(model_lasso.coef_, index = X_train.columns)\n",
        "imp_coef = pd.concat([coef.sort_values().head(10),\n",
        "                     coef.sort_values().tail(10)])\n",
        "\n",
        "matplotlib.rcParams['figure.figsize'] = (8.0, 10.0)\n",
        "imp_coef.plot(kind = \"barh\")\n",
        "plt.title(\"Coefficients in the Lasso Model\")"
      ],
      "execution_count": 12,
      "outputs": [
        {
          "output_type": "execute_result",
          "data": {
            "text/plain": [
              "Text(0.5, 1.0, 'Coefficients in the Lasso Model')"
            ]
          },
          "metadata": {
            "tags": []
          },
          "execution_count": 12
        },
        {
          "output_type": "display_data",
          "data": {
            "image/png": "[encoded data removed]",
            "text/plain": [
              "<Figure size 576x720 with 1 Axes>"
            ]
          },
          "metadata": {
            "tags": []
          }
        }
      ]
    },
    {
      "cell_type": "markdown",
      "metadata": {
        "id": "D-s1pZH-NQBn",
        "colab_type": "text"
      },
      "source": [
        "XGBoost Model"
      ]
    },
    {
      "cell_type": "code",
      "metadata": {
        "id": "z132Wh8tbycU",
        "colab_type": "code",
        "colab": {
          "base_uri": "https://localhost:8080/",
          "height": 35
        },
        "outputId": "e8b82f60-6808-4728-c0ee-8bd3a284a9a4"
      },
      "source": [
        "!conda install -c conda-forge -y xgboost #run this if not running on colab"
      ],
      "execution_count": 13,
      "outputs": [
        {
          "output_type": "stream",
          "text": [
            "/bin/bash: conda: command not found\n"
          ],
          "name": "stdout"
        }
      ]
    },
    {
      "cell_type": "code",
      "metadata": {
        "id": "f75bBvR46vSd",
        "colab_type": "code",
        "colab": {
          "base_uri": "https://localhost:8080/",
          "height": 87
        },
        "outputId": "c226974d-9440-459c-e240-bf68f477f76c"
      },
      "source": [
        "import xgboost as xgb\n",
        "\n",
        "#reassign train and test set\n",
        "X_train = train.loc[:,'With_Name':'PhotoAmt']\n",
        "X_test = test.loc[:,'With_Name':'PhotoAmt']\n",
        "y = train['AdoptionSpeed']\n",
        "\n",
        "dtrain = xgb.DMatrix(X_train, label = y)\n",
        "dtest = xgb.DMatrix(X_test)\n",
        "\n",
        "params = {\"max_depth\":5, \"eta\":0.05}\n",
        "\n",
        "model = xgb.cv(params, dtrain,  num_boost_round=500, early_stopping_rounds=100)"
      ],
      "execution_count": 14,
      "outputs": [
        {
          "output_type": "stream",
          "text": [
            "/usr/local/lib/python3.6/dist-packages/xgboost/core.py:587: FutureWarning: Series.base is deprecated and will be removed in a future version\n",
            "  if getattr(data, 'base', None) is not None and \\\n",
            "/usr/local/lib/python3.6/dist-packages/xgboost/core.py:588: FutureWarning: Series.base is deprecated and will be removed in a future version\n",
            "  data.base is not None and isinstance(data, np.ndarray) \\\n"
          ],
          "name": "stderr"
        }
      ]
    },
    {
      "cell_type": "code",
      "metadata": {
        "id": "HU_zlLsd67i3",
        "colab_type": "code",
        "colab": {
          "base_uri": "https://localhost:8080/",
          "height": 609
        },
        "outputId": "c203ab47-ecbc-483a-e1bf-727599020294"
      },
      "source": [
        "model.loc[:,[\"test-rmse-mean\", \"train-rmse-mean\"]].plot()"
      ],
      "execution_count": 15,
      "outputs": [
        {
          "output_type": "execute_result",
          "data": {
            "text/plain": [
              "<matplotlib.axes._subplots.AxesSubplot at 0x7f24fde09710>"
            ]
          },
          "metadata": {
            "tags": []
          },
          "execution_count": 15
        },
        {
          "output_type": "display_data",
          "data": {
            "image/png": "[encoded data removed]",
            "text/plain": [
              "<Figure size 576x720 with 1 Axes>"
            ]
          },
          "metadata": {
            "tags": []
          }
        }
      ]
    },
    {
      "cell_type": "code",
      "metadata": {
        "id": "AsdL3Pdm69qc",
        "colab_type": "code",
        "colab": {
          "base_uri": "https://localhost:8080/",
          "height": 225
        },
        "outputId": "e339d386-7da7-4f55-eb25-88b2d744cb6f"
      },
      "source": [
        "model_xgb = xgb.XGBRegressor(n_estimators=1000, max_depth=5, learning_rate=0.05) #the params were tuned using xgb.cv\n",
        "model_xgb.fit(X_train, y)"
      ],
      "execution_count": 16,
      "outputs": [
        {
          "output_type": "stream",
          "text": [
            "/usr/local/lib/python3.6/dist-packages/xgboost/core.py:587: FutureWarning: Series.base is deprecated and will be removed in a future version\n",
            "  if getattr(data, 'base', None) is not None and \\\n",
            "/usr/local/lib/python3.6/dist-packages/xgboost/core.py:588: FutureWarning: Series.base is deprecated and will be removed in a future version\n",
            "  data.base is not None and isinstance(data, np.ndarray) \\\n"
          ],
          "name": "stderr"
        },
        {
          "output_type": "stream",
          "text": [
            "[06:12:24] WARNING: /workspace/src/objective/regression_obj.cu:152: reg:linear is now deprecated in favor of reg:squarederror.\n"
          ],
          "name": "stdout"
        },
        {
          "output_type": "execute_result",
          "data": {
            "text/plain": [
              "XGBRegressor(base_score=0.5, booster='gbtree', colsample_bylevel=1,\n",
              "             colsample_bynode=1, colsample_bytree=1, gamma=0,\n",
              "             importance_type='gain', learning_rate=0.05, max_delta_step=0,\n",
              "             max_depth=5, min_child_weight=1, missing=None, n_estimators=1000,\n",
              "             n_jobs=1, nthread=None, objective='reg:linear', random_state=0,\n",
              "             reg_alpha=0, reg_lambda=1, scale_pos_weight=1, seed=None,\n",
              "             silent=None, subsample=1, verbosity=1)"
            ]
          },
          "metadata": {
            "tags": []
          },
          "execution_count": 16
        }
      ]
    },
    {
      "cell_type": "code",
      "metadata": {
        "id": "_Ut9kjhJ7Cio",
        "colab_type": "code",
        "colab": {
          "base_uri": "https://localhost:8080/",
          "height": 52
        },
        "outputId": "556209ef-bb6a-478c-87ec-1b8d4d623921"
      },
      "source": [
        "#XGbooster prediction\n",
        "xgb_preds = np.expm1(model_xgb.predict(X_test))\n",
        "xgb_preds"
      ],
      "execution_count": 17,
      "outputs": [
        {
          "output_type": "execute_result",
          "data": {
            "text/plain": [
              "array([2.9118927, 1.7933164, 1.677594 , ..., 3.0654798, 3.0273702,\n",
              "       2.2823482], dtype=float32)"
            ]
          },
          "metadata": {
            "tags": []
          },
          "execution_count": 17
        }
      ]
    },
    {
      "cell_type": "code",
      "metadata": {
        "id": "Q2abxI6T7G_g",
        "colab_type": "code",
        "colab": {
          "base_uri": "https://localhost:8080/",
          "height": 623
        },
        "outputId": "9dfce570-b467-49d6-d076-56009a084124"
      },
      "source": [
        "#compare lasso and xgb results\n",
        "\n",
        "predictions = pd.DataFrame({\"xgb\":xgb_preds, \"Ridge\":ridge_preds})\n",
        "predictions.plot(x = \"xgb\", y = \"Ridge\", kind = \"scatter\")"
      ],
      "execution_count": 18,
      "outputs": [
        {
          "output_type": "execute_result",
          "data": {
            "text/plain": [
              "<matplotlib.axes._subplots.AxesSubplot at 0x7f24ec820278>"
            ]
          },
          "metadata": {
            "tags": []
          },
          "execution_count": 18
        },
        {
          "output_type": "display_data",
          "data": {
            "image/png": "[encoded data removed]",
            "text/plain": [
              "<Figure size 576x720 with 1 Axes>"
            ]
          },
          "metadata": {
            "tags": []
          }
        }
      ]
    },
    {
      "cell_type": "code",
      "metadata": {
        "id": "qWeh7jTq7Zcp",
        "colab_type": "code",
        "colab": {
          "base_uri": "https://localhost:8080/",
          "height": 312
        },
        "outputId": "1600ef78-5538-437e-db83-0058aa140121"
      },
      "source": [
        "#make an ensamble model to combine the ridge and xgb prediction.\n",
        "preds = 0.5*lasso_preds + 0.5*xgb_preds\n",
        "\n",
        "#top 100 adoption speed prediction for pets in the test dataset\n",
        "print(preds[0:99])"
      ],
      "execution_count": 19,
      "outputs": [
        {
          "output_type": "stream",
          "text": [
            "[2.61799034 2.19537834 1.72726437 2.95659809 2.28428322 1.91465651\n",
            " 2.39530832 1.86769228 2.18118658 2.14073477 2.68655955 3.0080205\n",
            " 2.05737443 2.03237988 2.14285617 2.06867267 1.96965822 2.53030301\n",
            " 2.23385145 1.94695007 2.54844933 3.59594054 2.2424774  3.2651925\n",
            " 2.23385145 2.13845732 2.41666169 3.48007871 2.34197317 2.48829951\n",
            " 2.04911141 1.97269066 2.63074626 2.30378237 3.22898518 3.37592008\n",
            " 2.89959821 2.70794583 2.92875678 1.60604537 3.23106065 2.59805282\n",
            " 3.03834688 2.16594326 2.09120475 2.63928336 2.89511354 2.93384961\n",
            " 2.76305794 2.46488058 3.2045077  2.55997926 2.58523822 2.7155664\n",
            " 2.54487677 2.19493698 3.20473868 2.91276516 2.53450803 2.74413319\n",
            " 2.35297604 2.72032794 2.12672119 3.15307697 2.95435999 2.53878803\n",
            " 2.68238101 3.4385781  2.15670486 2.85651015 2.74004321 2.66572577\n",
            " 3.59306395 2.87030276 2.55942715 2.17450066 2.37929823 2.65031418\n",
            " 2.61628544 2.95146803 2.06657084 2.30037353 3.06662059 2.61031037\n",
            " 3.1853353  2.74612071 3.43697315 2.38353071 3.45299993 3.1574676\n",
            " 3.18208977 2.7524911  3.11480905 1.99003684 2.56170041 3.06767061\n",
            " 2.86604432 3.40423272 2.45468277]\n"
          ],
          "name": "stdout"
        }
      ]
    }
  ]
}